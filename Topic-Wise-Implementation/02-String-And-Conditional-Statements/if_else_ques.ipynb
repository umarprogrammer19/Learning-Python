{
 "cells": [
  {
   "cell_type": "code",
   "execution_count": 2,
   "metadata": {},
   "outputs": [
    {
     "name": "stdout",
     "output_type": "stream",
     "text": [
      "The number 21 is odd\n"
     ]
    }
   ],
   "source": [
    "# WAP to check if a number entered by a user is even or odd\n",
    "\n",
    "num = int(input(\"Plase Enter a number\"))\n",
    "\n",
    "if num % 2 == 0:\n",
    "    print(f\"The Number {num} is Even\")\n",
    "else:\n",
    "    print(f\"The number {num} is odd\")"
   ]
  }
 ],
 "metadata": {
  "kernelspec": {
   "display_name": "Python 3",
   "language": "python",
   "name": "python3"
  },
  "language_info": {
   "codemirror_mode": {
    "name": "ipython",
    "version": 3
   },
   "file_extension": ".py",
   "mimetype": "text/x-python",
   "name": "python",
   "nbconvert_exporter": "python",
   "pygments_lexer": "ipython3",
   "version": "3.12.6"
  }
 },
 "nbformat": 4,
 "nbformat_minor": 2
}
