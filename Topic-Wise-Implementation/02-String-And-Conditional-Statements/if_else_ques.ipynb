{
 "cells": [
  {
   "cell_type": "code",
   "execution_count": 30,
   "metadata": {},
   "outputs": [
    {
     "name": "stdout",
     "output_type": "stream",
     "text": [
      "The Number 9594 is greater\n"
     ]
    }
   ],
   "source": [
    "# WAP to find the greatest of 3 number entered by a user\n",
    "\n",
    "numbers = input(\"Enter 3 Number seperated with space\").strip().split(\" \")\n",
    "\n",
    "if len(numbers) == 3 and len(numbers) > 0:\n",
    "    a, b, c = numbers\n",
    "    if (int(a) > int(b)) and (int(a) > int(c)):\n",
    "        print(f\"The Number {a} is Greater\")\n",
    "    elif int(b) > int(c):\n",
    "        print(f\"The Number {b} is greater\")\n",
    "    else:\n",
    "        print(f\"The Number {c} is greater\")\n",
    "else:\n",
    "    print(\"Please Enter Only Three Number\")"
   ]
  },
  {
   "cell_type": "code",
   "execution_count": 2,
   "metadata": {},
   "outputs": [
    {
     "name": "stdout",
     "output_type": "stream",
     "text": [
      "The number 21 is odd\n"
     ]
    }
   ],
   "source": [
    "# WAP to check if a number entered by a user is even or odd\n",
    "\n",
    "num = int(input(\"Plase Enter a number\"))\n",
    "\n",
    "if num % 2 == 0:\n",
    "    print(f\"The Number {num} is Even\")\n",
    "else:\n",
    "    print(f\"The number {num} is odd\")"
   ]
  }
 ],
 "metadata": {
  "kernelspec": {
   "display_name": "Python 3",
   "language": "python",
   "name": "python3"
  },
  "language_info": {
   "codemirror_mode": {
    "name": "ipython",
    "version": 3
   },
   "file_extension": ".py",
   "mimetype": "text/x-python",
   "name": "python",
   "nbconvert_exporter": "python",
   "pygments_lexer": "ipython3",
   "version": "3.12.6"
  }
 },
 "nbformat": 4,
 "nbformat_minor": 2
}
