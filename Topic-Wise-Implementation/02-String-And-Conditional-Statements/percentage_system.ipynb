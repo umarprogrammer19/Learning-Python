{
 "cells": [
  {
   "cell_type": "code",
   "execution_count": 7,
   "metadata": {
    "vscode": {
     "languageId": "ruby"
    }
   },
   "outputs": [
    {
     "name": "stdout",
     "output_type": "stream",
     "text": [
      "Your Grade is F\n"
     ]
    }
   ],
   "source": [
    "# Grade Students based on the marks\n",
    "marks = int(input(\"Please Enter Your Marks\"))\n",
    "\n",
    "grade = None\n",
    "if marks >= 90 and marks <= 100:\n",
    "    grade = \"A\"\n",
    "elif marks >= 80 and marks < 90:\n",
    "    grade = \"B\"\n",
    "elif marks >= 70 and marks < 80:\n",
    "    grade = \"C\"\n",
    "elif marks >= 60 and marks < 70:\n",
    "    grade = \"D\"\n",
    "elif marks >= 50 and marks < 60:\n",
    "    grade = \"E\"\n",
    "else:\n",
    "    grade = \"F\"\n",
    "\n",
    "print(f\"Your Grade is {grade}\")"
   ]
  }
 ],
 "metadata": {
  "kernelspec": {
   "display_name": "Python 3",
   "language": "python",
   "name": "python3"
  },
  "language_info": {
   "codemirror_mode": {
    "name": "ipython",
    "version": 3
   },
   "file_extension": ".py",
   "mimetype": "text/x-python",
   "name": "python",
   "nbconvert_exporter": "python",
   "pygments_lexer": "ipython3",
   "version": "3.12.6"
  }
 },
 "nbformat": 4,
 "nbformat_minor": 2
}
